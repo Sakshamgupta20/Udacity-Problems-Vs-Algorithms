{
 "cells": [
  {
   "cell_type": "code",
   "execution_count": 43,
   "metadata": {},
   "outputs": [
    {
     "data": {
      "text/plain": [
       "\"\\nMax and Min in a Unsorted Array\\nIn this problem, we will look for smallest and largest integer from a list of unsorted integers. The code should run in O(n) time. Do not use Python's inbuilt functions to find min and max.\\n\""
      ]
     },
     "execution_count": 43,
     "metadata": {},
     "output_type": "execute_result"
    }
   ],
   "source": [
    "\"\"\"\n",
    "Max and Min in a Unsorted Array\n",
    "In this problem, we will look for smallest and largest integer from a list of unsorted integers. The code should run in O(n) time. Do not use Python's inbuilt functions to find min and max.\n",
    "\"\"\""
   ]
  },
  {
   "cell_type": "code",
   "execution_count": 44,
   "metadata": {},
   "outputs": [],
   "source": [
    "def get_min_max(ints):\n",
    "    if ints is None or len(ints) == 0:\n",
    "        return (None,None)\n",
    "\n",
    "    min_num = ints[0]\n",
    "    max_num = ints[0]\n",
    "\n",
    "    for num in ints:\n",
    "        if num < min_num:\n",
    "            min_num = num\n",
    "        \n",
    "        if num > max_num:\n",
    "            max_num = num\n",
    "    return (min_num,max_num)\n",
    "\n"
   ]
  },
  {
   "cell_type": "code",
   "execution_count": 45,
   "metadata": {},
   "outputs": [
    {
     "name": "stdout",
     "output_type": "stream",
     "text": [
      "\n",
      "Test Case 1: Random numbers\n",
      "Pass with output: (0, 9)\n",
      "\n",
      "Test Case 2: Empty array\n",
      "Pass with output: (None, None)\n",
      "\n",
      "Test Case 3: Array with same numbers\n",
      "Pass with output: (4, 4)\n",
      "\n",
      "Edge Case 1: None array\n",
      "Pass with output: (None, None)\n",
      "\n",
      "Edge Case 1: Big list\n",
      "Pass with output: (501, 4999)\n"
     ]
    }
   ],
   "source": [
    "## Example Test Case of Ten Integers\n",
    "import random\n",
    "\n",
    "l = [i for i in range(0, 10)]  # a list containing 0 - 9\n",
    "random.shuffle(l)\n",
    "\n",
    "#Case 1 \n",
    "\n",
    "print(\"\\nTest Case 1: Random numbers\")\n",
    "print (\"Pass with output: \" + str(get_min_max(l)) if ((0, 9) == get_min_max(l)) else \"Fail\") #(0, 9)\n",
    "\n",
    "#Case 2\n",
    "print(\"\\nTest Case 2: Empty array\")\n",
    "print (\"Pass with output: \" + str(get_min_max([])) if ((None,None) == get_min_max([])) else \"Fail\") #(None,None)\n",
    "\n",
    "\n",
    "#Case 3\n",
    "print(\"\\nTest Case 3: Array with same numbers\")\n",
    "print (\"Pass with output: \" + str(get_min_max([4,4,4,4,4,4,4,4,4,4])) if ((4,4) == get_min_max([4,4,4,4,4,4,4,4,4,4])) else \"Fail\") #(4,4)\n",
    "\n",
    "#Edge Case 1\n",
    "print(\"\\nEdge Case 1: None array\")\n",
    "print (\"Pass with output: \" + str(get_min_max(None)) if ((None,None) == get_min_max(None)) else \"Fail\") #(None,None)\n",
    "\n",
    "#Edge Case 2\n",
    "print(\"\\nEdge Case 2: Big list\")\n",
    "import random\n",
    "arr = [i for i in range(501,5000)]\n",
    "random.shuffle(arr)\n",
    "print (\"Pass with output: \" + str(get_min_max(arr)) if ((501,4999) == get_min_max(arr)) else \"Fail\") #(None,None)"
   ]
  },
  {
   "cell_type": "code",
   "execution_count": null,
   "metadata": {},
   "outputs": [],
   "source": []
  }
 ],
 "metadata": {
  "kernelspec": {
   "display_name": "Python 3.8.10 64-bit",
   "language": "python",
   "name": "python3"
  },
  "language_info": {
   "codemirror_mode": {
    "name": "ipython",
    "version": 3
   },
   "file_extension": ".py",
   "mimetype": "text/x-python",
   "name": "python",
   "nbconvert_exporter": "python",
   "pygments_lexer": "ipython3",
   "version": "3.8.10"
  },
  "orig_nbformat": 4,
  "vscode": {
   "interpreter": {
    "hash": "916dbcbb3f70747c44a77c7bcd40155683ae19c65e1c03b4aa3499c5328201f1"
   }
  }
 },
 "nbformat": 4,
 "nbformat_minor": 2
}
