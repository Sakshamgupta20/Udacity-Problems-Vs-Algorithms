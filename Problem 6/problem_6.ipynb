{
 "cells": [
  {
   "cell_type": "code",
   "execution_count": 1,
   "metadata": {},
   "outputs": [
    {
     "data": {
      "text/plain": [
       "\"\\nMax and Min in a Unsorted Array\\nIn this problem, we will look for smallest and largest integer from a list of unsorted integers. The code should run in O(n) time. Do not use Python's inbuilt functions to find min and max.\\n\""
      ]
     },
     "execution_count": 1,
     "metadata": {},
     "output_type": "execute_result"
    }
   ],
   "source": [
    "\"\"\"\n",
    "Max and Min in a Unsorted Array\n",
    "In this problem, we will look for smallest and largest integer from a list of unsorted integers. The code should run in O(n) time. Do not use Python's inbuilt functions to find min and max.\n",
    "\"\"\""
   ]
  },
  {
   "cell_type": "code",
   "execution_count": 11,
   "metadata": {},
   "outputs": [],
   "source": [
    "def get_min_max(ints):\n",
    "    if len(ints) == 0:\n",
    "        return (None,None)\n",
    "\n",
    "    min_num = ints[0]\n",
    "    max_num = ints[0]\n",
    "\n",
    "    for num in ints:\n",
    "        if num < min_num:\n",
    "            min_num = num\n",
    "        \n",
    "        if num > max_num:\n",
    "            max_num = num\n",
    "    return (min_num,max_num)\n",
    "\n"
   ]
  },
  {
   "cell_type": "code",
   "execution_count": 12,
   "metadata": {},
   "outputs": [
    {
     "name": "stdout",
     "output_type": "stream",
     "text": [
      "Pass\n",
      "Pass\n",
      "Pass\n"
     ]
    }
   ],
   "source": [
    "## Example Test Case of Ten Integers\n",
    "import random\n",
    "\n",
    "l = [i for i in range(0, 10)]  # a list containing 0 - 9\n",
    "random.shuffle(l)\n",
    "\n",
    "#Case 1 Random numbers\n",
    "print (\"Pass\" if ((0, 9) == get_min_max(l)) else \"Fail\") #(0, 9)\n",
    "\n",
    "#Case 2 Empty array\n",
    "print (\"Pass\" if ((None,None) == get_min_max([])) else \"Fail\") #(None,None)\n",
    "\n",
    "\n",
    "#Case 3 Array with same numbers\n",
    "print (\"Pass\" if ((4,4) == get_min_max([4,4,4,4,4,4,4,4,4,4])) else \"Fail\") #(4,4)"
   ]
  },
  {
   "cell_type": "code",
   "execution_count": null,
   "metadata": {},
   "outputs": [],
   "source": []
  }
 ],
 "metadata": {
  "kernelspec": {
   "display_name": "Python 3.8.10 64-bit",
   "language": "python",
   "name": "python3"
  },
  "language_info": {
   "codemirror_mode": {
    "name": "ipython",
    "version": 3
   },
   "file_extension": ".py",
   "mimetype": "text/x-python",
   "name": "python",
   "nbconvert_exporter": "python",
   "pygments_lexer": "ipython3",
   "version": "3.8.10"
  },
  "orig_nbformat": 4,
  "vscode": {
   "interpreter": {
    "hash": "916dbcbb3f70747c44a77c7bcd40155683ae19c65e1c03b4aa3499c5328201f1"
   }
  }
 },
 "nbformat": 4,
 "nbformat_minor": 2
}
