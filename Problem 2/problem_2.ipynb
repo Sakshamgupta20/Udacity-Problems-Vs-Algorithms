{
 "cells": [
  {
   "cell_type": "code",
   "execution_count": 1,
   "metadata": {},
   "outputs": [
    {
     "data": {
      "text/plain": [
       "''"
      ]
     },
     "execution_count": 1,
     "metadata": {},
     "output_type": "execute_result"
    }
   ],
   "source": [
    "\"\"\"\n",
    "Search in a Rotated Sorted Array\n",
    "You are given a sorted array which is rotated at some random pivot point.\n",
    "\n",
    "Example: [0,1,2,4,5,6,7] might become [4,5,6,7,0,1,2]\n",
    "\n",
    "You are given a target value to search. If found in the array return its index, otherwise return -1.\n",
    "\n",
    "You can assume there are no duplicates in the array and your algorithm's runtime complexity must be in the order of O(log n).\n",
    "\n",
    "Example:\n",
    "\n",
    "Input: nums = [4,5,6,7,0,1,2], target = 0, Output: 4\n",
    "\n",
    "\n",
    "\"\"\"\n"
   ]
  },
  {
   "cell_type": "code",
   "execution_count": 49,
   "metadata": {},
   "outputs": [],
   "source": [
    "def rotated_array_search(input_list, number):\n",
    "    if input_list is None or len(input_list) == 0:\n",
    "        return -1\n",
    "\n",
    "    return rotared_array_search_sol(input_list, number, 0, len(input_list)-1)\n",
    "\n",
    "\n",
    "def rotared_array_search_sol(input_list, number, begin_index, end_index):\n",
    "    if begin_index > end_index:\n",
    "        return -1\n",
    "\n",
    "    mid = begin_index + ((end_index - begin_index) // 2)\n",
    "\n",
    "    if input_list[mid] == number:\n",
    "        return mid\n",
    "\n",
    "\n",
    "    #It means array was partitioned here and the mid is the end number of right side\n",
    "    #e.g. 4,5,6,7,0,1,2, here 7 is mid\n",
    "    if input_list[mid] > input_list[mid + 1] and input_list[mid] > input_list[mid - 1]:\n",
    "        if input_list[end_index] > number:\n",
    "            return rotared_array_search_sol(input_list, number, mid + 1, end_index)\n",
    "        return rotared_array_search_sol(input_list, number, begin_index, mid - 1)\n",
    "\n",
    "    #It means array was partitioned here and the mid is the first number of left side\n",
    "    #e.g. 5,6,7,0,1,2,3 here 0 is mid\n",
    "    if input_list[mid] < input_list[mid + 1] and input_list[mid] < input_list[mid - 1]:\n",
    "        if input_list[end_index] > number:\n",
    "            return rotared_array_search_sol(input_list, number, mid + 1, end_index)\n",
    "        return rotared_array_search_sol(input_list, number, begin_index, mid - 1)\n",
    "\n",
    "    if number < input_list[mid]:\n",
    "        return rotared_array_search_sol(input_list, number, begin_index, mid - 1)\n",
    "\n",
    "    else:\n",
    "        return rotared_array_search_sol(input_list, number, mid + 1, end_index)"
   ]
  },
  {
   "cell_type": "code",
   "execution_count": 52,
   "metadata": {},
   "outputs": [
    {
     "name": "stdout",
     "output_type": "stream",
     "text": [
      "Pass with output: 5\n",
      "Pass with output: 4\n",
      "Pass with output: 2\n",
      "Pass with output: -1\n"
     ]
    }
   ],
   "source": [
    "def linear_search(input_list, number):\n",
    "    for index, element in enumerate(input_list):\n",
    "        if element == number:\n",
    "            return index\n",
    "    return -1\n",
    "\n",
    "def test_function(test_case):\n",
    "    input_list = test_case[0]\n",
    "    number = test_case[1]\n",
    "    output = rotated_array_search(input_list, number)\n",
    "    if linear_search(input_list, number) == output:\n",
    "        print(\"Pass with output: \" + str(output))\n",
    "    else:\n",
    "        print(\"Fail\")\n",
    "\n",
    "\n",
    "#CASE 1: Pivot element lies in between is of right side last element\n",
    "test_function([[16, 17, 18, 19, 10, 11, 12, 13, 14], 11]) #Expected output 5\n",
    "\n",
    "#CASE 2: Pivot element lies in between is of left side first element\n",
    "test_function([[5,6,7,0,1,2,4], 1]) #Expected output 4\n",
    "\n",
    "\n",
    "#CASE 3: Pivot element lies in between is of left side first element\n",
    "test_function([[5,6,7,0,1,2,4], 7]) #Expected output 2\n",
    "\n",
    "#CASE 4: Empty List\n",
    "test_function([[], 1]) #Expected output -1\n",
    "\n"
   ]
  }
 ],
 "metadata": {
  "kernelspec": {
   "display_name": "Python 3.8.10 64-bit",
   "language": "python",
   "name": "python3"
  },
  "language_info": {
   "codemirror_mode": {
    "name": "ipython",
    "version": 3
   },
   "file_extension": ".py",
   "mimetype": "text/x-python",
   "name": "python",
   "nbconvert_exporter": "python",
   "pygments_lexer": "ipython3",
   "version": "3.8.10"
  },
  "orig_nbformat": 4,
  "vscode": {
   "interpreter": {
    "hash": "916dbcbb3f70747c44a77c7bcd40155683ae19c65e1c03b4aa3499c5328201f1"
   }
  }
 },
 "nbformat": 4,
 "nbformat_minor": 2
}
