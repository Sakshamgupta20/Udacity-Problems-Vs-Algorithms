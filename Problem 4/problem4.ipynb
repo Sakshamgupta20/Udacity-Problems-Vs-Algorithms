{
 "cells": [
  {
   "cell_type": "code",
   "execution_count": 2,
   "metadata": {},
   "outputs": [],
   "source": [
    "\"\"\"\n",
    "Dutch National Flag Problem\n",
    "Given an input array consisting on only 0, 1, and 2, sort the array in a single traversal. You're not allowed to use any sorting function that Python provides.\n",
    "\n",
    "Note: O(n) does not necessarily mean single-traversal. For e.g. if you traverse the array twice, that would still be an O(n) solution but it will not count as single traversal.\n",
    "\"\"\""
   ]
  },
  {
   "cell_type": "code",
   "execution_count": 5,
   "metadata": {},
   "outputs": [],
   "source": [
    "def sort_012(input_list):\n",
    "    if len(input_list) <= 1:\n",
    "        return input_list\n",
    "    \n",
    "    front_index = 0\n",
    "    pos_0_index = 0\n",
    "    pos_2_index = len(input_list) - 1\n",
    "\n",
    "    while front_index <= pos_2_index:\n",
    "        if input_list[front_index] == 0:\n",
    "            input_list[front_index] = input_list[pos_0_index]\n",
    "            input_list[pos_0_index] = 0\n",
    "            front_index += 1\n",
    "            pos_0_index += 1\n",
    "        elif input_list[front_index] == 2:\n",
    "            input_list[front_index] = input_list[pos_2_index]\n",
    "            input_list[pos_2_index] = 2\n",
    "            pos_2_index -= 1\n",
    "        else:\n",
    "            front_index += 1\n",
    "    return input_list"
   ]
  },
  {
   "cell_type": "code",
   "execution_count": 9,
   "metadata": {},
   "outputs": [
    {
     "name": "stdout",
     "output_type": "stream",
     "text": [
      "[0, 0, 0, 0, 0, 0, 0, 0, 0, 0, 0, 1, 1, 1, 1, 1, 1, 2, 2, 2, 2, 2, 2, 2, 2, 2]\n",
      "Pass\n",
      "[]\n",
      "Pass\n",
      "[1]\n",
      "Pass\n"
     ]
    }
   ],
   "source": [
    "def test_function(test_case):\n",
    "    sorted_array = sort_012(test_case)\n",
    "    print(sorted_array)\n",
    "    if sorted_array == sorted(test_case):\n",
    "        print(\"Pass\")\n",
    "    else:\n",
    "        print(\"Fail\")\n",
    "\n",
    "#Case 1: List with random 0,1,2 numbers\n",
    "test_function([2, 1, 2, 0, 0, 2, 1, 0, 1, 0, 0, 2, 2, 2, 1, 2, 0, 0, 0, 2, 1, 0, 2, 0, 0, 1]) #[0, 0, 0, 0, 0, 0, 0, 0, 0, 0, 0, 1, 1, 1, 1, 1, 1, 2, 2, 2, 2, 2, 2, 2, 2, 2]\n",
    "\n",
    "#Case 2: List without any numbers\n",
    "test_function([]) #[]\n",
    "\n",
    "#Case 2: List with 1 number\n",
    "test_function([1]) #[1]"
   ]
  },
  {
   "cell_type": "code",
   "execution_count": null,
   "metadata": {},
   "outputs": [],
   "source": []
  }
 ],
 "metadata": {
  "kernelspec": {
   "display_name": "Python 3.8.10 64-bit",
   "language": "python",
   "name": "python3"
  },
  "language_info": {
   "codemirror_mode": {
    "name": "ipython",
    "version": 3
   },
   "file_extension": ".py",
   "mimetype": "text/x-python",
   "name": "python",
   "nbconvert_exporter": "python",
   "pygments_lexer": "ipython3",
   "version": "3.8.10"
  },
  "orig_nbformat": 4,
  "vscode": {
   "interpreter": {
    "hash": "916dbcbb3f70747c44a77c7bcd40155683ae19c65e1c03b4aa3499c5328201f1"
   }
  }
 },
 "nbformat": 4,
 "nbformat_minor": 2
}
