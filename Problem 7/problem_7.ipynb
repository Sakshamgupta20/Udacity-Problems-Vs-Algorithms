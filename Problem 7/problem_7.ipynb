{
 "cells": [
  {
   "cell_type": "code",
   "execution_count": 15,
   "metadata": {},
   "outputs": [],
   "source": [
    "# A RouteTrieNode will be similar to our autocomplete TrieNode... with one additional element, a handler.\n",
    "class RouteTrieNode:\n",
    "    def __init__(self):\n",
    "        # Initialize the node with children as before, plus a handler\n",
    "        self.handler = None\n",
    "        self.children = {}\n",
    "\n",
    "    def insert(self,part):\n",
    "        # Insert the node as before\n",
    "        if part not in self.children:\n",
    "            self.children[part] = RouteTrieNode()\n",
    "\n",
    "# A RouteTrie will store our routes and their associated handlers\n",
    "class RouteTrie:\n",
    "    def __init__(self,handler = None):\n",
    "        # Initialize the trie with an root node and a handler, this is the root path or home page node\n",
    "        self.root = RouteTrieNode()\n",
    "        self.root.handler = handler\n",
    "\n",
    "    def insert(self,parts,handler):\n",
    "        # Similar to our previous example you will want to recursively add nodes\n",
    "        # Make sure you assign the handler to only the leaf (deepest) node of this path\n",
    "        current_part = self.root\n",
    "        for part in parts:\n",
    "            current_part.insert(part)\n",
    "            current_part = current_part.children[part]\n",
    "        current_part.handler = handler\n",
    "\n",
    "    def find(self,parts):\n",
    "        current_node = self.root\n",
    "\n",
    "        for part in parts:\n",
    "            if part not in current_node.children:\n",
    "                return None\n",
    "\n",
    "            current_node = current_node.children[part]\n",
    "        return current_node.handler"
   ]
  },
  {
   "cell_type": "code",
   "execution_count": 18,
   "metadata": {},
   "outputs": [],
   "source": [
    "# The Router class will wrap the Trie and handle \n",
    "class Router:\n",
    "    def __init__(self, root_handler, none_handler = None):\n",
    "        # Create a new RouteTrie for holding our routes\n",
    "        # You could also add a handler for 404 page not found responses as well!\n",
    "        self.route = RouteTrie(root_handler)\n",
    "        self.none_handler = none_handler\n",
    "\n",
    "    def add_handler(self,path,handler):\n",
    "        # Add a handler for a path\n",
    "        # You will need to split the path and pass the pass parts\n",
    "        # as a list to the RouteTrie\n",
    "        self.route.insert(self.split_path(path),handler)\n",
    "\n",
    "    def lookup(self, path):\n",
    "        # lookup path (by parts) and return the associated handler\n",
    "        # you can return None if it's not found or\n",
    "        # return the \"not found\" handler if you added one\n",
    "        # bonus points if a path works with and without a trailing slash\n",
    "        # e.g. /about and /about/ both return the /about handler\n",
    "        handler = self.route.find(self.split_path(path))\n",
    "        if handler is None:\n",
    "            return self.none_handler\n",
    "        return handler\n",
    "\n",
    "\n",
    "    def split_path(self,path):\n",
    "        # you need to split the path into parts for \n",
    "        # both the add_handler and loopup functions,\n",
    "        # so it should be placed in a function here\n",
    "        return [part for part in path.split(\"/\") if part != '']"
   ]
  },
  {
   "cell_type": "code",
   "execution_count": 26,
   "metadata": {},
   "outputs": [
    {
     "name": "stdout",
     "output_type": "stream",
     "text": [
      "\n",
      "Test Case 1: Check for root handler\n",
      "Udacity Home Page\n",
      "\n",
      "Test Case 2: Check for udacity handler\n",
      "udacity modules handler\n",
      "udacity modules handler\n",
      "\n",
      "Test Case 3: Check for /udacity/courses\n",
      "not found handler\n",
      "\n",
      "Test Case 4: Check for /udacity/courses/course\n",
      "courses handler\n",
      "\n",
      "Test Case 5: Check for udacity/courses/course/12 which doesnt exists\n",
      "not found handler\n"
     ]
    }
   ],
   "source": [
    "\n",
    "\n",
    "router = Router(\"Udacity Home Page\", \"not found handler\")\n",
    "router.add_handler(\"/udacity\", \"udacity modules handler\")\n",
    "router.add_handler(\"/udacity/courses/course\", \"courses handler\")\n",
    "\n",
    "#Case 1 \n",
    "print(\"\\nTest Case 1: Check for root handler\")\n",
    "print(router.lookup(\"/\")) # should print 'Udacity Home Page'\n",
    "\n",
    "#Case 2\n",
    "print(\"\\nTest Case 2: Check for udacity handler\")\n",
    "print(router.lookup(\"/udacity\")) # should print 'udacity modules handler'\n",
    "print(router.lookup(\"/udacity/\")) # should print 'udacity modules handler'\n",
    "\n",
    "#Case 3\n",
    "print(\"\\nTest Case 3: Check for /udacity/courses\")\n",
    "print(router.lookup(\"/udacity/courses\")) # should print 'not found handler'\n",
    "\n",
    "#Case 4\n",
    "print(\"\\nTest Case 4: Check for /udacity/courses/course\")\n",
    "print(router.lookup(\"/udacity/courses/course\")) # should print 'courses handler'\n",
    "\n",
    "#Case 5\n",
    "print(\"\\nTest Case 5: Check for udacity/courses/course/12 which doesnt exists\")\n",
    "print(router.lookup(\"/udacity/courses/course/12\")) # should print 'not found handler'"
   ]
  },
  {
   "cell_type": "code",
   "execution_count": null,
   "metadata": {},
   "outputs": [],
   "source": []
  }
 ],
 "metadata": {
  "kernelspec": {
   "display_name": "Python 3.8.10 64-bit",
   "language": "python",
   "name": "python3"
  },
  "language_info": {
   "codemirror_mode": {
    "name": "ipython",
    "version": 3
   },
   "file_extension": ".py",
   "mimetype": "text/x-python",
   "name": "python",
   "nbconvert_exporter": "python",
   "pygments_lexer": "ipython3",
   "version": "3.8.10"
  },
  "orig_nbformat": 4,
  "vscode": {
   "interpreter": {
    "hash": "916dbcbb3f70747c44a77c7bcd40155683ae19c65e1c03b4aa3499c5328201f1"
   }
  }
 },
 "nbformat": 4,
 "nbformat_minor": 2
}
