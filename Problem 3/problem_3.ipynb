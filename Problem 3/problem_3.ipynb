{
 "cells": [
  {
   "cell_type": "code",
   "execution_count": null,
   "metadata": {},
   "outputs": [],
   "source": [
    "\"\"\"\n",
    "Rearrange Array Elements\n",
    "Rearrange Array Elements so as to form two number such that their sum is maximum. Return these two numbers. You can assume that all array elements are in the range [0, 9]. The number of digits in both the numbers cannot differ by more than 1. You're not allowed to use any sorting function that Python provides and the expected time complexity is O(nlog(n)).\n",
    "\n",
    "for e.g. [1, 2, 3, 4, 5]\n",
    "\n",
    "The expected answer would be [531, 42]. Another expected answer can be [542, 31]. In scenarios such as these when there are more than one possible answers, return any one.\n",
    "\"\"\""
   ]
  },
  {
   "cell_type": "code",
   "execution_count": 69,
   "metadata": {},
   "outputs": [],
   "source": [
    "def rearrange_digits(input_list):\n",
    "    sorted_list,result = merge_sort(input_list)\n",
    "\n",
    "    return result\n",
    "\n",
    "\n",
    "def merge_sort(arr):\n",
    "    if len(arr) <= 1:\n",
    "        return (arr,[])\n",
    "\n",
    "    mid = len(arr) // 2\n",
    "    left,result = merge_sort(arr[:mid])\n",
    "    right,result = merge_sort(arr[mid:])\n",
    "\n",
    "    return combine_left_right(left,right)\n",
    "\n",
    "def combine_left_right(left,right):\n",
    "    left_index = 0\n",
    "    right_index = 0\n",
    "    merged = []\n",
    "\n",
    "    index = 0\n",
    "    max1 = \"\" #To store maximum number 1\n",
    "    max2 = \"\" #To store maximum number 2\n",
    "    while left_index < len(left) and right_index < len(right):\n",
    "        if left[left_index] > right[right_index]:\n",
    "            merged.append(left[left_index])\n",
    "            left_index += 1\n",
    "        else:\n",
    "            merged.append(right[right_index])\n",
    "            right_index += 1\n",
    "\n",
    "        if index % 2 == 0:\n",
    "            max1 += str(merged[index])\n",
    "        else:\n",
    "            max2 += str(merged[index])\n",
    "        index += 1\n",
    "\n",
    "        \n",
    "    while left_index < len(left):\n",
    "        merged.append(left[left_index])\n",
    "        if index % 2 == 0:\n",
    "            max1 += str(merged[index])\n",
    "        else:\n",
    "            max2 += str(merged[index])\n",
    "        index += 1\n",
    "        left_index += 1\n",
    "    \n",
    "    while right_index < len(right):\n",
    "        merged.append(right[right_index])\n",
    "        if index % 2 == 0:\n",
    "            max1 += str(merged[index])\n",
    "        else:\n",
    "            max2 += str(merged[index])\n",
    "        index += 1\n",
    "        right_index += 1\n",
    "\n",
    "    return (merged,[int(max1),int(max2)])\n"
   ]
  },
  {
   "cell_type": "code",
   "execution_count": 78,
   "metadata": {},
   "outputs": [
    {
     "name": "stdout",
     "output_type": "stream",
     "text": [
      "Pass with output: [531, 42]\n",
      "Pass with output: [999743221, 99863321]\n",
      "Pass with output: []\n",
      "Pass with output: [2, 1]\n"
     ]
    }
   ],
   "source": [
    "def test_function(test_case):\n",
    "    output = rearrange_digits(test_case[0])\n",
    "    solution = test_case[1]\n",
    "    if sum(output) == sum(solution):\n",
    "        print(\"Pass with output: \" +  str(output))\n",
    "    else:\n",
    "        print(\"Fail with output: \" +  str(output))\n",
    "\n",
    "#Case 1: List with increasing numbers till 5\n",
    "test_function([[1, 2, 3, 4, 5], [542, 31]]) # Expected output = [964,852]\n",
    "\n",
    "#Case 2: List with random multiple numbers\n",
    "test_function([[1,2,3,6,9,8,7,4,3,2,1,2,3,9,9,9,9], [999743221, 99863321]]) # Expected output = [[999743221, 99863321]\n",
    "\n",
    "#Case 3: Empty List\n",
    "test_function([[], []]) # Expected output = []\n",
    "\n",
    "#Case 4: List with 2 items\n",
    "test_function([[1,2], [2,1]]) # Expected output = [2,1]"
   ]
  },
  {
   "cell_type": "code",
   "execution_count": null,
   "metadata": {},
   "outputs": [],
   "source": []
  },
  {
   "cell_type": "code",
   "execution_count": null,
   "metadata": {},
   "outputs": [],
   "source": []
  }
 ],
 "metadata": {
  "kernelspec": {
   "display_name": "Python 3.8.10 64-bit",
   "language": "python",
   "name": "python3"
  },
  "language_info": {
   "codemirror_mode": {
    "name": "ipython",
    "version": 3
   },
   "file_extension": ".py",
   "mimetype": "text/x-python",
   "name": "python",
   "nbconvert_exporter": "python",
   "pygments_lexer": "ipython3",
   "version": "3.8.10"
  },
  "orig_nbformat": 4,
  "vscode": {
   "interpreter": {
    "hash": "916dbcbb3f70747c44a77c7bcd40155683ae19c65e1c03b4aa3499c5328201f1"
   }
  }
 },
 "nbformat": 4,
 "nbformat_minor": 2
}
