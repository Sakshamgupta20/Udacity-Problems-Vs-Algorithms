{
 "cells": [
  {
   "cell_type": "code",
   "execution_count": 18,
   "metadata": {},
   "outputs": [
    {
     "data": {
      "text/plain": [
       "\"\\nRearrange Array Elements\\nRearrange Array Elements so as to form two number such that their sum is maximum. Return these two numbers. You can assume that all array elements are in the range [0, 9]. The number of digits in both the numbers cannot differ by more than 1. You're not allowed to use any sorting function that Python provides and the expected time complexity is O(nlog(n)).\\n\\nfor e.g. [1, 2, 3, 4, 5]\\n\\nThe expected answer would be [531, 42]. Another expected answer can be [542, 31]. In scenarios such as these when there are more than one possible answers, return any one.\\n\""
      ]
     },
     "execution_count": 18,
     "metadata": {},
     "output_type": "execute_result"
    }
   ],
   "source": [
    "\"\"\"\n",
    "Rearrange Array Elements\n",
    "Rearrange Array Elements so as to form two number such that their sum is maximum. Return these two numbers. You can assume that all array elements are in the range [0, 9]. The number of digits in both the numbers cannot differ by more than 1. You're not allowed to use any sorting function that Python provides and the expected time complexity is O(nlog(n)).\n",
    "\n",
    "for e.g. [1, 2, 3, 4, 5]\n",
    "\n",
    "The expected answer would be [531, 42]. Another expected answer can be [542, 31]. In scenarios such as these when there are more than one possible answers, return any one.\n",
    "\"\"\""
   ]
  },
  {
   "cell_type": "code",
   "execution_count": 19,
   "metadata": {},
   "outputs": [],
   "source": [
    "def rearrange_digits(input_list):\n",
    "    if input_list is None:\n",
    "        return []\n",
    "    sorted_list,result = merge_sort(input_list)\n",
    "\n",
    "    return result\n",
    "\n",
    "\n",
    "def merge_sort(arr):\n",
    "    if len(arr) <= 1:\n",
    "        return (arr,[])\n",
    "\n",
    "    mid = len(arr) // 2\n",
    "    left,result = merge_sort(arr[:mid])\n",
    "    right,result = merge_sort(arr[mid:])\n",
    "\n",
    "    return combine_left_right(left,right)\n",
    "\n",
    "def combine_left_right(left,right):\n",
    "    left_index = 0\n",
    "    right_index = 0\n",
    "    merged = []\n",
    "\n",
    "    index = 0\n",
    "    max1 = \"\" #To store maximum number 1\n",
    "    max2 = \"\" #To store maximum number 2\n",
    "    while left_index < len(left) and right_index < len(right):\n",
    "        if left[left_index] > right[right_index]:\n",
    "            merged.append(left[left_index])\n",
    "            left_index += 1\n",
    "        else:\n",
    "            merged.append(right[right_index])\n",
    "            right_index += 1\n",
    "\n",
    "        if index % 2 == 0:\n",
    "            max1 += str(merged[index])\n",
    "        else:\n",
    "            max2 += str(merged[index])\n",
    "        index += 1\n",
    "\n",
    "        \n",
    "    while left_index < len(left):\n",
    "        merged.append(left[left_index])\n",
    "        if index % 2 == 0:\n",
    "            max1 += str(merged[index])\n",
    "        else:\n",
    "            max2 += str(merged[index])\n",
    "        index += 1\n",
    "        left_index += 1\n",
    "    \n",
    "    while right_index < len(right):\n",
    "        merged.append(right[right_index])\n",
    "        if index % 2 == 0:\n",
    "            max1 += str(merged[index])\n",
    "        else:\n",
    "            max2 += str(merged[index])\n",
    "        index += 1\n",
    "        right_index += 1\n",
    "\n",
    "    return (merged,[int(max1),int(max2)])\n"
   ]
  },
  {
   "cell_type": "code",
   "execution_count": 20,
   "metadata": {},
   "outputs": [
    {
     "name": "stdout",
     "output_type": "stream",
     "text": [
      "\n",
      "Test Case 1: List with increasing numbers till 5\n",
      "Pass with output: [531, 42]\n",
      "\n",
      "Test Case 2: List with random multiple numbers\n",
      "Pass with output: [999743221, 99863321]\n",
      "\n",
      "Test Case 3: List with 2 items\n",
      "Pass with output: [2, 1]\n",
      "\n",
      "Edge Case 1: Empty/None List\n",
      "Pass with output: []\n",
      "Pass with output: []\n",
      "\n",
      "Edge Case 2: Big List\n",
      "Pass with output: [49949749549349148948748548348147947747547347146946746546346145945745545345144944744544344143943743543343142942742542342141941741541341140940740540340139939739539339138938738538338137937737537337136936736536336135935735535335134934734534334133933733533333132932732532332131931731531331130930730530330129929729529329128928728528328127927727527327126926726526326125925725525325124924724524324123923723523323122922722522322121921721521321120920720520320119919719519319118918718518318117917717517317116916716516316115915715515315114914714514314113913713513313112912712512312111911711511311110910710510310199979593918987858381797775737169676563615957555351494745434139373533312927252321191715131197531, 49849649449249048848648448248047847647447247046846646446246045845645445245044844644444244043843643443243042842642442242041841641441241040840640440240039839639439239038838638438238037837637437237036836636436236035835635435235034834634434234033833633433233032832632432232031831631431231030830630430230029829629429229028828628428228027827627427227026826626426226025825625425225024824624424224023823623423223022822622422222021821621421221020820620420220019819619419219018818618418218017817617417217016816616416216015815615415215014814614414214013813613413213012812612412212011811611411211010810610410210098969492908886848280787674727068666462605856545250484644424038363432302826242220181614121086420]\n"
     ]
    }
   ],
   "source": [
    "def test_function(test_case):\n",
    "    output = rearrange_digits(test_case[0])\n",
    "    solution = test_case[1]\n",
    "    if sum(output) == sum(solution):\n",
    "        print(\"Pass with output: \" +  str(output))\n",
    "    else:\n",
    "        print(\"Fail with output: \" +  str(output))\n",
    "\n",
    "#Case 1\n",
    "print(\"\\nTest Case 1: List with increasing numbers till 5\")\n",
    "test_function([[1, 2, 3, 4, 5], [542, 31]]) # Expected output = [964,852]\n",
    "\n",
    "#Case 2\n",
    "print(\"\\nTest Case 2: List with random multiple numbers\")\n",
    "test_function([[1,2,3,6,9,8,7,4,3,2,1,2,3,9,9,9,9], [999743221, 99863321]]) # Expected output = [[999743221, 99863321]\n",
    "\n",
    "#Case 3\n",
    "print(\"\\nTest Case 3: List with 2 items\")\n",
    "test_function([[1,2], [2,1]]) # Expected output = [2,1]\n",
    "\n",
    "# Edge Case 1\n",
    "print(\"\\nEdge Case 1: Empty/None List\")\n",
    "test_function([None, []]) # Expected output = []\n",
    "test_function([[], []]) # Expected output = []\n",
    "\n",
    "# Edge Case 1\n",
    "print(\"\\nEdge Case 2: Big List\")\n",
    "test_function([[i for i in range(200,500)] + [i for i in range(0,200)], [49949749549349148948748548348147947747547347146946746546346145945745545345144944744544344143943743543343142942742542342141941741541341140940740540340139939739539339138938738538338137937737537337136936736536336135935735535335134934734534334133933733533333132932732532332131931731531331130930730530330129929729529329128928728528328127927727527327126926726526326125925725525325124924724524324123923723523323122922722522322121921721521321120920720520320119919719519319118918718518318117917717517317116916716516316115915715515315114914714514314113913713513313112912712512312111911711511311110910710510310199979593918987858381797775737169676563615957555351494745434139373533312927252321191715131197531, \n",
    "49849649449249048848648448248047847647447247046846646446246045845645445245044844644444244043843643443243042842642442242041841641441241040840640440240039839639439239038838638438238037837637437237036836636436236035835635435235034834634434234033833633433233032832632432232031831631431231030830630430230029829629429229028828628428228027827627427227026826626426226025825625425225024824624424224023823623423223022822622422222021821621421221020820620420220019819619419219018818618418218017817617417217016816616416216015815615415215014814614414214013813613413213012812612412212011811611411211010810610410210098969492908886848280787674727068666462605856545250484644424038363432302826242220181614121086420]])"
   ]
  }
 ],
 "metadata": {
  "kernelspec": {
   "display_name": "Python 3.8.10 64-bit",
   "language": "python",
   "name": "python3"
  },
  "language_info": {
   "codemirror_mode": {
    "name": "ipython",
    "version": 3
   },
   "file_extension": ".py",
   "mimetype": "text/x-python",
   "name": "python",
   "nbconvert_exporter": "python",
   "pygments_lexer": "ipython3",
   "version": "3.8.10"
  },
  "orig_nbformat": 4,
  "vscode": {
   "interpreter": {
    "hash": "916dbcbb3f70747c44a77c7bcd40155683ae19c65e1c03b4aa3499c5328201f1"
   }
  }
 },
 "nbformat": 4,
 "nbformat_minor": 2
}
