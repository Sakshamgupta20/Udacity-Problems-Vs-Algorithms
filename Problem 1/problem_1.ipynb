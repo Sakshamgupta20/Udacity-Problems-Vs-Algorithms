{
 "cells": [
  {
   "cell_type": "code",
   "execution_count": 1,
   "metadata": {},
   "outputs": [
    {
     "data": {
      "text/plain": [
       "'\\nFinding the Square Root of an Integer\\nFind the square root of the integer without using any Python library. You have to find the floor value of the square root.\\n\\nFor example if the given number is 16, then the answer would be 4.\\n\\nIf the given number is 27, the answer would be 5 because sqrt(5) = 5.196 whose floor value is 5.\\n\\nThe expected time complexity is O(log(n))\\n'"
      ]
     },
     "execution_count": 1,
     "metadata": {},
     "output_type": "execute_result"
    }
   ],
   "source": [
    "\"\"\"\n",
    "Finding the Square Root of an Integer\n",
    "Find the square root of the integer without using any Python library. You have to find the floor value of the square root.\n",
    "\n",
    "For example if the given number is 16, then the answer would be 4.\n",
    "\n",
    "If the given number is 27, the answer would be 5 because sqrt(5) = 5.196 whose floor value is 5.\n",
    "\n",
    "The expected time complexity is O(log(n))\n",
    "\"\"\""
   ]
  },
  {
   "cell_type": "code",
   "execution_count": 47,
   "metadata": {},
   "outputs": [],
   "source": [
    "def square_root(num):\n",
    "    return square_root_sol(num,1,num,None)\n",
    "\n",
    "def square_root_sol(num,start,end,ans):\n",
    "    if start >= end:\n",
    "        return ans\n",
    "\n",
    "    mid = (end + start) // 2\n",
    "\n",
    "    if mid * mid == num:\n",
    "        return mid\n",
    "\n",
    "    if mid * mid > num:\n",
    "        return square_root_sol(num,start,mid - 1,ans)\n",
    "    else:\n",
    "        ans = mid\n",
    "        return square_root_sol(num,mid + 1,end,ans)"
   ]
  },
  {
   "cell_type": "code",
   "execution_count": 61,
   "metadata": {},
   "outputs": [
    {
     "name": "stdout",
     "output_type": "stream",
     "text": [
      "\n",
      "Test Case 1: Number is a perfect square\n",
      "13\n",
      "\n",
      "Test Case 1: Number is not a perfect square\n",
      "20\n",
      "\n",
      "Test Case 1: Number is very big\n"
     ]
    },
    {
     "data": {
      "text/plain": [
       "4457927"
      ]
     },
     "execution_count": 61,
     "metadata": {},
     "output_type": "execute_result"
    }
   ],
   "source": [
    "#CASE 1\n",
    "print(\"\\nTest Case 1: Number is a perfect square\")\n",
    "print(square_root(196)) #Expected output 13\n",
    "\n",
    "#CASE 2\n",
    "print(\"\\nTest Case 1: Number is not a perfect square\")\n",
    "print(square_root(417)) #Expected output 20\n",
    "\n",
    "#CASE 3\n",
    "print(\"\\nTest Case 1: Number is very big\")\n",
    "square_root(19873124322121) #Expected output 4457927\n",
    "\n"
   ]
  },
  {
   "cell_type": "code",
   "execution_count": null,
   "metadata": {},
   "outputs": [],
   "source": []
  }
 ],
 "metadata": {
  "kernelspec": {
   "display_name": "Python 3.8.10 64-bit",
   "language": "python",
   "name": "python3"
  },
  "language_info": {
   "codemirror_mode": {
    "name": "ipython",
    "version": 3
   },
   "file_extension": ".py",
   "mimetype": "text/x-python",
   "name": "python",
   "nbconvert_exporter": "python",
   "pygments_lexer": "ipython3",
   "version": "3.8.10"
  },
  "orig_nbformat": 4,
  "vscode": {
   "interpreter": {
    "hash": "916dbcbb3f70747c44a77c7bcd40155683ae19c65e1c03b4aa3499c5328201f1"
   }
  }
 },
 "nbformat": 4,
 "nbformat_minor": 2
}
